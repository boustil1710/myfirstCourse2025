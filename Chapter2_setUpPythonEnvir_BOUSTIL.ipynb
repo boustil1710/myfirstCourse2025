{
 "cells": [
  {
   "cell_type": "code",
   "execution_count": null,
   "id": "37d768f7-2e8f-4752-874a-ee3268501f43",
   "metadata": {},
   "outputs": [],
   "source": []
  },
  {
   "cell_type": "markdown",
   "id": "16e5acb6-ac9c-48db-89dc-57c0678dee88",
   "metadata": {},
   "source": [
    "# 2. Setting Up the Python Environment\n",
    "\n",
    "In this chapter, we'll talk about:\n",
    "\n",
    "- Installing Python  \n",
    "- Using Anaconda and virtual environments  \n",
    "- Managing packages with **pip** and **conda**  \n",
    "- Working in **Jupyter Notebooks** and **VS Code**  \n",
    "- Organizing data science projects for real-world scalability"
   ]
  },
  {
   "cell_type": "markdown",
   "id": "7901740e-833c-468b-a5f4-13d69ddc3e0b",
   "metadata": {},
   "source": [
    "## 2.2 Installing Python: The Foundation\n",
    "\n",
    "### What is Python?\n",
    "Python is Python is a **general-purpose programming language**. It is a high-level, interpreted programming language known for its simplicity and vast ecosystem of libraries.  \n",
    "It is the **de facto language of data science** because of its readability, flexibility, and extensive community support.\n",
    "\n",
    "\n",
    "### 🧠 Installing Python\n",
    "\n",
    "There are two common ways to install Python:\n",
    "\n",
    "---\n",
    "\n",
    "#### **Option 1: Official Python Installation**\n",
    "1. Visit [python.org/downloads](https://www.python.org/downloads/)  \n",
    "2. Download the latest version\n",
    "3. During installation:  \n",
    "   - ✅ Check the box: **“Add Python to PATH”**  \n",
    "   - ✅ Choose **\"Customize installation\"** → enable *pip* and *IDLE*  \n",
    "4. Verify installation: python --version \n"
   ]
  },
  {
   "cell_type": "markdown",
   "id": "09cfa15d-cabe-40b1-addf-25878476b6c7",
   "metadata": {},
   "source": [
    "#### **Option 2: Install Anaconda (Recommended)**\n",
    "\n",
    "Anaconda is a Python distribution that includes:  \n",
    "- Python  \n",
    "- Jupyter Notebook  \n",
    "- Conda (package and environment manager)  \n",
    "- Hundreds of data science libraries (*NumPy, Pandas, etc.*)  \n",
    "\n",
    "####  Steps\n",
    "1. Visit [anaconda.com/products/distribution](https://www.anaconda.com/products/distribution)  \n",
    "2. Download the installer \n",
    "3. Follow the setup instructions  \n",
    "4. Open the **Anaconda Navigator** or **Anaconda Prompt**  \n",
    "\n",
    "\n",
    "\n",
    "### ✅ To verify installation\n"
   ]
  },
  {
   "cell_type": "code",
   "execution_count": 3,
   "id": "04557c0c-8c29-456a-9020-e0602856327e",
   "metadata": {},
   "outputs": [
    {
     "ename": "NameError",
     "evalue": "name 'conda' is not defined",
     "output_type": "error",
     "traceback": [
      "\u001b[1;31m---------------------------------------------------------------------------\u001b[0m",
      "\u001b[1;31mNameError\u001b[0m                                 Traceback (most recent call last)",
      "Cell \u001b[1;32mIn[3], line 1\u001b[0m\n\u001b[1;32m----> 1\u001b[0m conda \u001b[38;5;241m-\u001b[39m\u001b[38;5;241m-\u001b[39mversion\n\u001b[0;32m      2\u001b[0m python \u001b[38;5;241m-\u001b[39m\u001b[38;5;241m-\u001b[39mversion\n",
      "\u001b[1;31mNameError\u001b[0m: name 'conda' is not defined"
     ]
    }
   ],
   "source": [
    "\n",
    "conda --version\n",
    "python --version\n"
   ]
  },
  {
   "cell_type": "markdown",
   "id": "cd2c051f-7a95-40ca-b652-1c519c475fb5",
   "metadata": {},
   "source": [
    "## 2.3 IDEs for Python\n",
    "\n",
    "An **IDE (Integrated Development Environment)** is a software application that provides developers with tools to write, test, and debug code efficiently.  \n",
    "For Python, several IDEs and code editors are widely used, each with strengths and weaknesses.\n",
    "\n",
    "---\n",
    "\n",
    "###  Popular IDEs and Editors for Python\n",
    "\n",
    "- **IDLE**  \n",
    "  - Comes pre-installed with Python.  \n",
    "  - Simple and lightweight, good for beginners.  \n",
    "\n",
    "- **Jupyter Notebook**  \n",
    "  - Interactive environment for data science.  \n",
    "  - Ideal for data analysis, visualization, and machine learning experiments.  \n",
    "\n",
    "- **PyCharm**  \n",
    "  - Full-featured IDE (by JetBrains).  \n",
    "  - Great for large projects, debugging, and advanced features.  \n",
    "\n",
    "- **VS Code (Visual Studio Code)**  \n",
    "  - Lightweight, extensible, and popular.  \n",
    "  - Large ecosystem of extensions for Python, Git, and data science tools.  \n",
    "\n",
    "- **Spyder**  \n",
    "  - Designed for scientific computing.  \n",
    "  - Often used in combination with Anaconda.  \n",
    "\n",
    "---\n",
    "\n",
    "###  Comparison of Python IDEs\n",
    "\n",
    "| IDE / Editor       | Best For                           | Pros                                    | Cons                          |\n",
    "|--------------------|-------------------------------------|-----------------------------------------|-------------------------------|\n",
    "| **IDLE**           | Beginners, quick scripts            | Simple, comes with Python               | Very limited features         |\n",
    "| **Jupyter Notebook** | Data science, ML, research        | Interactive, great for visualization    | Not ideal for large projects  |\n",
    "| **PyCharm**        | Professional, large applications    | Advanced debugging, refactoring tools   | Heavy, paid version for Pro   |\n",
    "| **VS Code**        | General purpose, extensible         | Lightweight, huge extension marketplace | Needs extensions for features |\n",
    "| **Spyder**         | Scientific & numerical computing    | Integrated with Anaconda, MATLAB-like   | Less flexible than VS Code    |\n",
    "\n",
    "---\n",
    "\n",
    "📌 **Tip:**  \n",
    "- If you're starting with **data science** → use **Jupyter Notebook**.  \n",
    "- For **general Python development** → **VS Code** is a great balance of features and performance.  \n",
    "- For **enterprise projects** → consider **PyCharm Professional**.  \n"
   ]
  },
  {
   "cell_type": "code",
   "execution_count": null,
   "id": "0e43d4bc-efca-425f-9060-d913c7ae5ca1",
   "metadata": {},
   "outputs": [],
   "source": []
  },
  {
   "cell_type": "markdown",
   "id": "189e4c01-ecb2-4617-97a3-8ad8ee30820a",
   "metadata": {},
   "source": []
  },
  {
   "cell_type": "markdown",
   "id": "bac3377c-2124-401b-bfb2-bcc1b197e93e",
   "metadata": {},
   "source": [
    "- 📂 **my_project/**\n",
    "  - 📂 **data/**\n",
    "    - 📂 raw/ → Original data (CSV, JSON, Excel, etc.)\n",
    "    - 📂 processed/ → Cleaned data ready for analysis\n",
    "  - 📂 **notebooks/** → Jupyter Notebooks for exploration\n",
    "  - 📂 **src/**\n",
    "    - __init__.py → Makes it a package\n",
    "    - utils.py → Utility functions\n",
    "  - 📂 **models/** → Saved models\n",
    "  - 📂 **reports/** → Visualizations and figures\n",
    "  - 📂 **tests/** → Unit tests\n",
    "  - requirements.txt → Dependencies\n",
    "  - environment.yml → Anaconda environment config\n",
    "  - README.md → Documentation\n",
    "  - .gitignore → Ignore unnecessary files\n"
   ]
  },
  {
   "cell_type": "markdown",
   "id": "96cadc02-4a2d-413a-b286-21d24ad5fc3d",
   "metadata": {},
   "source": [
    "\n",
    "\n",
    "## 2.4 Virtual Environments in Python\n",
    "\n",
    "A **virtual environment** is an isolated Python environment that allows to install specific packages and dependencies **without affecting the global Python setup or other projects**.\n",
    "\n",
    "### ✅ Benefits of Using Virtual Environments\n",
    "- Keeps projects isolated  \n",
    "- Prevents dependency clashes  \n",
    "- Ensures reproducibility  \n",
    "- Facilitates collaboration  \n",
    "\n",
    "---\n",
    "\n",
    "### Creating a Virtual Environment (using `venv`)\n",
    "\n",
    "**Steps:**\n",
    "1. Open terminal / command prompt  \n",
    "2. Navigate to your project folder:  cd my_project\n",
    "3. Create the environment:python -m venv env\n",
    "4. Activate it: Windows: (.\\env\\Scripts\\activate) or Mac/Linux: (source env/bin/activate)\n",
    "You should now see (env) in your terminal.\n",
    "5. Install libraries like : (pip install pandas numpy matplotlib)\n",
    "6. Deactivate when done: (deactivate )\n",
    "### Creating a Virtual Environment (using Conda (Recommended)\n",
    "If you use Anaconda, Conda environments are more powerful:\n",
    "\n",
    "**Steps:**\n",
    "1. conda create --name ds_env python=3.11\n",
    "2. conda activate ds_env\n",
    "3. conda install pandas numpy matplotlib scikit-learn\n",
    "4. List all environments: conda env list\n",
    "\n",
    "\n"
   ]
  },
  {
   "cell_type": "markdown",
   "id": "613d3627-285a-45ff-83d3-889004e8bd2e",
   "metadata": {},
   "source": [
    "## Package Management in Data Science: pip vs. conda\n",
    "\n",
    "When working in Data Science, we don’t only rely on programming languages like Python or R.  \n",
    "We also use **package managers** to install libraries, manage dependencies, and create isolated environments.  \n",
    "The two most popular tools are **pip** and **conda**.\n",
    "\n",
    "\n",
    "### 🔹 pip (Python Package Installer) : \n",
    "          Official package manager for **Python**.  \n",
    "### 🔹 Conda :\n",
    "Conda is a cross-platform package and environment manager that supports multiple languages (Python, R, C, etc.) and is widely used in the Anaconda ecosystem for handling dependencies and reproducible environments.\n",
    "\n",
    "#### pip vs. conda: Which to Use?\n",
    "\n",
    "| Feature               | pip                                | conda                                |\n",
    "|------------------------|------------------------------------|--------------------------------------|\n",
    "| Language support       | Python only                       | Python, R, C, etc.                   |\n",
    "| Package source         | PyPI                              | Anaconda repositories (conda-forge)  |\n",
    "| Dependency handling    | May cause conflicts               | More reliable dependency resolution  |\n",
    "| Environment management | ❌ No                             | ✅ Yes                               |\n",
    "| Speed                  | Faster, but less robust           | Slower, but more stable              |\n",
    "| Binary support         | Limited                           | Full binary support                  |\n",
    "\n",
    "#### Best practice:\n",
    "\n",
    "- Use conda inside Anaconda\n",
    "\n",
    "- Use pip outside Anaconda or when conda doesn’t support a package\n",
    "\n"
   ]
  },
  {
   "cell_type": "markdown",
   "id": "093ba5d2-d84b-4518-80e9-dd154041214a",
   "metadata": {},
   "source": [
    "### Structure of a Data Science Project in Python\n",
    "\n",
    "A clear project structure is essential in data science to ensures clarity and scalability\n",
    "The minimal Data Science Project Structure: \n",
    "\n",
    "``` my_project/\n",
    "│\n",
    "├── data/               # Raw and processed datasets\n",
    "│   ├── raw/            # Original immutable data\n",
    "│   └── processed/      # Cleaned and prepared data\n",
    "│\n",
    "├── notebooks/          # Jupyter notebooks for experiments\n",
    "│   └── eda.ipynb\n",
    "│\n",
    "├── src/                # Source code\n",
    "│   ├── __init__.py\n",
    "│   └── data_cleaning.py\n",
    "│\n",
    "├── models/             # Trained models\n",
    "│   └── trained_model.pkl\n",
    "│\n",
    "├── outputs/            # Generated outputs\n",
    "│   └── charts/\n",
    "│\n",
    "├── requirements.txt    # Dependencies (pip)\n",
    "├── environment.yml     # Dependencies (conda)\n",
    "└── README.md           # Project description\n",
    "\n",
    "   ```"
   ]
  },
  {
   "cell_type": "markdown",
   "id": "eda954ca-bdac-4717-8bbf-1f1f661f98f4",
   "metadata": {},
   "source": [
    " ### 📂 Folder Explanations\n",
    "- **data/** → Keep your raw input data and any cleaned/processed versions.  \n",
    "- **notebooks/** → For interactive work, experiments, and analysis in Jupyter.  \n",
    "- **src/** → Your Python scripts (data preprocessing, modeling, utilities).\n",
    "- **models/** → Store trained models, serialized files (e.g., .pkl, .h5) and checkpoints; useful for versioning models and reproducibility. \n",
    "- **outputs/** → Store model outputs, visualizations, or exported results.  \n",
    "- **requirements.txt** → Tracks the exact Python packages used (`pip freeze > requirements.txt`).  \n",
    "- **environment.yml** → Alternative for Conda environments (`conda env export > environment.yml`).  \n",
    "- **README.md** → Explains what the project is about, how to set it up, and how to use it.\n",
    "  \n",
    "\n"
   ]
  },
  {
   "cell_type": "markdown",
   "id": "9b89dd3d-8a07-4f80-8b3e-671bc369d110",
   "metadata": {},
   "source": [
    "# Main Python Libraries for Data Science\n",
    "\n",
    "- **NumPy** → Core library for numerical computing, arrays, and linear algebra.\n",
    "- **Pandas** → Data manipulation and analysis using DataFrames and Series.\n",
    "- **Matplotlib** → Basic plotting library for visualizations.\n",
    "- **Seaborn** → Statistical data visualization built on top of Matplotlib.\n",
    "- **Scikit-learn** → Machine learning library for classification, regression, clustering, and preprocessing.\n",
    "- **SciPy** → Scientific computing with advanced math, optimization, and statistics.\n",
    "- **Statsmodels** → Statistical modeling and hypothesis testing.\n",
    "- **TensorFlow** → Deep learning framework developed by Google.\n",
    "- **PyTorch** → Deep learning library developed by Facebook (Meta), widely used in research.\n",
    "- **XGBoost** → Gradient boosting library for efficient and scalable machine learning.\n",
    "- **LightGBM** → Fast, distributed, high-performance gradient boosting framework.\n"
   ]
  },
  {
   "cell_type": "markdown",
   "id": "2de76a2a-38a4-43d8-b957-0356f453db79",
   "metadata": {},
   "source": [
    "# Installing and Managing Libraries\n",
    "\n",
    "\n",
    "##  Installing Packages with pip\n",
    "pip is Python’s default package installer. It's simple and widely used.\n",
    "\n",
    "### Install multiple libraries\n",
    "pip install numpy pandas\n",
    "\n",
    "### Install a specific version\n",
    "pip install pandas==1.5.3\n",
    "\n",
    "### Upgrade a package\n",
    "pip install --upgrade matplotlib\n",
    "\n",
    "### Uninstall a package\n",
    "pip uninstall seaborn\n",
    "\n",
    "### List all installed packages\n",
    "pip list\n",
    "\n",
    "### Freeze the current environment for sharing\n",
    "pip freeze > requirements.txt\n"
   ]
  },
  {
   "cell_type": "markdown",
   "id": "bf306f32-a222-46d7-af6a-eb5012525399",
   "metadata": {},
   "source": [
    "## Installing with conda (Anaconda Users)\n",
    "conda is the package manager that comes with Anaconda. It’s especially useful when managing libraries that have C or Fortran dependencies (e.g., NumPy, SciPy).\n",
    "### Install multiple libraries\n",
    "conda install numpy pandas\n",
    "\n",
    "### Install from conda-forge channel\n",
    "conda install -c conda-forge seaborn\n",
    "\n",
    "### Export environment configuration\n",
    "conda env export > environment.yml\n",
    "\n",
    "### Recreate an environment from a file\n",
    "conda env create -f environment.yml\n"
   ]
  },
  {
   "cell_type": "markdown",
   "id": "8aa3c1d4-3a89-412e-9eb7-f80d9371ec9e",
   "metadata": {},
   "source": [
    "# Version Control with Git\n",
    "\n",
    "\n",
    "**Git** is a **distributed version control system (DVCS)** that allows :\n",
    "\n",
    "- Track and manage changes to the code.  \n",
    "- Work on different versions (branches) without breaking the main project.  \n",
    "- Collaborate with teammates through shared repositories (e.g., GitHub).  \n",
    "- Roll back to earlier versions if something breaks.  \n",
    "\n",
    "---\n",
    "\n",
    "## 🔄 Basic Git Workflow\n",
    "\n",
    "1. **Initialize a repository (start version control)**  \n",
    "   git init.....\n"
   ]
  },
  {
   "cell_type": "markdown",
   "id": "8b029852-af8a-4105-9df8-a4a5352d16b5",
   "metadata": {},
   "source": [
    "# Scnenario to set Up a data science projet\n",
    "- Structure your project folders cleanly\n",
    "- Use a virtual environment\n",
    "- Install necessary libraries\n",
    "- Track everything with Git\n",
    "- Work in Jupyter notebooks"
   ]
  },
  {
   "cell_type": "markdown",
   "id": "6d17049b-4a67-4e17-8aac-47ce45182b75",
   "metadata": {},
   "source": [
    "# 🧠 MYProject: Step-by-Step Setup\n",
    "\n",
    "## Step 1: Create Your Project Folder\n",
    "mkdir MYProject\n",
    "\n",
    "cd MYProject\n"
   ]
  },
  {
   "cell_type": "markdown",
   "id": "54c6b1b2-f7b1-4cec-83ad-9d51ffd77592",
   "metadata": {},
   "source": [
    "## Step 2: Set Up a Virtual Environment\n",
    "python -m venv env\n",
    "\n",
    "source env/bin/activate   # On Linux/Mac\n"
   ]
  },
  {
   "cell_type": "markdown",
   "id": "279cf109-8627-4463-b02b-919552284142",
   "metadata": {},
   "source": [
    "## Step 3: Install Your Libraries\n",
    "\n",
    "pip install numpy pandas matplotlib seaborn scikit-learn jupyter\n"
   ]
  },
  {
   "cell_type": "markdown",
   "id": "71bb0235-ac59-4d82-baa7-5dd20792ad9d",
   "metadata": {},
   "source": [
    "## Step 4: Freeze Your Environment\n",
    "pip freeze > requirements.txt\n"
   ]
  },
  {
   "cell_type": "markdown",
   "id": "ef56837b-3bf3-4abb-8567-1849aebc899b",
   "metadata": {},
   "source": [
    "## Step 5: Initialize Git\n",
    "git init\n",
    "\n",
    "echo \"env/\" >> .gitignore\n",
    "\n",
    "git add\n",
    "\n",
    "git commit -m \"Initial setup\"\n",
    "\n"
   ]
  },
  {
   "cell_type": "markdown",
   "id": "826a72d4-e069-4aed-b006-be5332ff0426",
   "metadata": {},
   "source": [
    "## Step 6: Create a Clean Folder Structure\n",
    "MYProject/\n",
    "│\n",
    "├── data/          # Raw and processed data\n",
    "├── notebooks/     # Jupyter notebooks\n",
    "├── src/           # Python scripts (cleaning, modeling)\n",
    "├── outputs/       # Plots, charts, reports\n",
    "├── env/           # Virtual environment (excluded from Git)\n",
    "├── requirements.txt  # Dependency file\n",
    "└── README.md      # Project documentation"
   ]
  },
  {
   "cell_type": "markdown",
   "id": "bd6bc0c4-c1b8-42b2-87c8-5cb4f3ca9b55",
   "metadata": {},
   "source": [
    "## 2.13 Best Practices for Managing Environments  \n",
    "- Use **one environment per project**  \n",
    "- Track dependencies with `requirements.txt` or `environment.yml`  \n",
    "- Initialize **Git from the start** (exclude `env/` in `.gitignore`)  \n",
    "- Separate **raw data** from **processed data**  \n",
    "- Document setup steps in your **README.md**  \n",
    "- Regularly update dependencies (security & compatibility)  \n",
    "- Pin package versions for consistency  \n",
    "- Share the same environment file across the team  \n",
    "- Don’t commit large datasets to Git  \n",
    "\n"
   ]
  },
  {
   "cell_type": "code",
   "execution_count": null,
   "id": "5056dedf-f84b-4f42-b4a0-409fc64ee65f",
   "metadata": {},
   "outputs": [],
   "source": []
  }
 ],
 "metadata": {
  "kernelspec": {
   "display_name": "Python 3 (ipykernel)",
   "language": "python",
   "name": "python3"
  },
  "language_info": {
   "codemirror_mode": {
    "name": "ipython",
    "version": 3
   },
   "file_extension": ".py",
   "mimetype": "text/x-python",
   "name": "python",
   "nbconvert_exporter": "python",
   "pygments_lexer": "ipython3",
   "version": "3.13.5"
  }
 },
 "nbformat": 4,
 "nbformat_minor": 5
}
