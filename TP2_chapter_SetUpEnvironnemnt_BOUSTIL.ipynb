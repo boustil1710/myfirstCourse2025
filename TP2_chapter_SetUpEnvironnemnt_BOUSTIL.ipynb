{
 "cells": [
  {
   "cell_type": "markdown",
   "id": "bb71eb37-711a-463f-982a-a2c39c8e433a",
   "metadata": {},
   "source": [
    "# Exercise 1: Hospital Patient Data Analysis\n",
    "\n",
    "Goal: Create a mini-project to manipulate patient data and visualize basic statistics.\n",
    "\n",
    "## Step 1: Create the project directory\n",
    "Create a project folder named HospitalDataAnalysis.\n",
    "\n",
    "## Step 2: Create a virtual environment with a specific Python version\n",
    "\n",
    "If you have multiple Python versions installed (e.g., Python 3.10, 3.11), specify the one you need.\n",
    "\n",
    "## Step 3: Activate it and install the required libraries\n",
    "like:  numpy pandas matplotlib jupyter\n",
    "\n",
    "## Step 4: Create project structure\n",
    "\n",
    "Organize your project into a clean structure by creating the following folders and files:\n",
    "\n",
    "```\n",
    "HospitalDataAnalysis/\n",
    "├── env/                # Virtual environment folder (ignored by Git)\n",
    "├── data/               # Folder to store CSV files\n",
    "│   └── patients.csv\n",
    "├── notebooks/          # Jupyter notebooks\n",
    "│   └── patients_analysis.ipynb\n",
    "├── scripts/            # Optional Python scripts\n",
    "├── .gitignore\n",
    "└── README.md\n",
    "```\n",
    "\n",
    "\n"
   ]
  },
  {
   "cell_type": "markdown",
   "id": "07a9dcdf-e12b-4011-8eaa-38810a15701b",
   "metadata": {},
   "source": [
    "## Step 5: Load and explore the data\n",
    "\n",
    "- Create a small CSV file patients.csv in the data/ folder with columns:\n",
    "PatientID, Age, Sex, BloodPressure, Cholesterol, Diagnosis\n",
    "\n",
    "- Insert some values\n",
    "\n"
   ]
  },
  {
   "cell_type": "markdown",
   "id": "a6385ad7-19d8-4e7d-b240-f4481762bd52",
   "metadata": {},
   "source": [
    "### Load it in the notebook patients_analysis.ipynb using:\n",
    "\n",
    "import pandas as pd\n",
    "\n",
    "df = pd.read_csv(\"../data/patients.csv\")\n",
    "df.head()\n"
   ]
  },
  {
   "cell_type": "markdown",
   "id": "6d99d3e7-98e6-4641-8a1b-95b003dd1db3",
   "metadata": {},
   "source": [
    "### Run basic descriptive statistics using:\n",
    "\n",
    "df.describe()\n",
    "\n",
    "df['Sex'].value_counts()\n",
    "\n",
    "df['Diagnosis'].value_counts()\n"
   ]
  },
  {
   "cell_type": "markdown",
   "id": "8194c9a9-9456-4d65-b701-408c1a01dd6d",
   "metadata": {},
   "source": [
    "### Visualize the data : Create a Simple Plot\n",
    "\n",
    "plt.plot(df[\"age\"], df[\"blood_pressure\"], marker=\"o\")\n",
    "\n",
    "plt.xlabel(\"Age\")\n",
    "\n",
    "plt.ylabel(\"Blood Pressure\")\n",
    "\n",
    "plt.title(\"Blood Pressure vs Age\")\n",
    "\n",
    "plt.show()\n"
   ]
  },
  {
   "cell_type": "markdown",
   "id": "38d41e3a-90ea-45c0-bd7b-4dacc187a9e5",
   "metadata": {},
   "source": [
    "## Step 6: Initialize Git and create README\n",
    "\n",
    "- Create a GitHub account (if you don’t already have one).  \n",
    "- Go to [https://github.com](https://github.com) and sign up.  \n",
    "- Create a new repository on GitHub called **HospitalDataAnalysis**.  \n",
    "   👉 Do not initialize it with a README, `.gitignore`, or license (we’ll add them from local).  \n",
    "\n",
    "- Link your local project with the GitHub repository:  \n",
    "\n",
    "- Create a new README.md file in your local project with a short description of the project: \n",
    " \"A mini data science project to analyze hospital data and visualize basic statistics.\"\n",
    "\n",
    "\n",
    "- Create a .gitignore file in your local project with the following content:\n",
    "\n",
    "env/\n",
    "\n",
    "\\_\\_pycache\\_\\_/\n",
    "\n",
    "*.pyc\n",
    "\n",
    "- Commit and push the changes.\n",
    "\n"
   ]
  },
  {
   "cell_type": "markdown",
   "id": "6d885853-c8e2-4fe9-bc5a-18419cf154c0",
   "metadata": {},
   "source": [
    "## Step 7: Share the project\n",
    "\n",
    "- How can you export all the installed libraries in your virtual environment to a file so that someone else can recreate the same environment?\n",
    "\n",
    "\n",
    "\n",
    "- Test recreating the environment on a different machine:\n",
    "\n"
   ]
  }
 ],
 "metadata": {
  "kernelspec": {
   "display_name": "Python 3 (ipykernel)",
   "language": "python",
   "name": "python3"
  },
  "language_info": {
   "codemirror_mode": {
    "name": "ipython",
    "version": 3
   },
   "file_extension": ".py",
   "mimetype": "text/x-python",
   "name": "python",
   "nbconvert_exporter": "python",
   "pygments_lexer": "ipython3",
   "version": "3.13.5"
  }
 },
 "nbformat": 4,
 "nbformat_minor": 5
}
