{
 "cells": [
  {
   "cell_type": "code",
   "execution_count": null,
   "id": "b1ed1e26-4260-4f05-835f-3803ad5d95db",
   "metadata": {},
   "outputs": [],
   "source": [
    "# test de mes cours"
   ]
  }
 ],
 "metadata": {
  "kernelspec": {
   "display_name": "Python 3 (ipykernel)",
   "language": "python",
   "name": "python3"
  },
  "language_info": {
   "codemirror_mode": {
    "name": "ipython",
    "version": 3
   },
   "file_extension": ".py",
   "mimetype": "text/x-python",
   "name": "python",
   "nbconvert_exporter": "python",
   "pygments_lexer": "ipython3",
   "version": "3.13.5"
  }
 },
 "nbformat": 4,
 "nbformat_minor": 5
}
